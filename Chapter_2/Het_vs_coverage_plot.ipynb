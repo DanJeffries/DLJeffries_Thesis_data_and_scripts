{
 "cells": [
  {
   "cell_type": "markdown",
   "metadata": {},
   "source": [
    "### This script retrieves the data to make the heterozygosity vs coverage plot for idfentifying under merged loci in RADseq!"
   ]
  },
  {
   "cell_type": "code",
   "execution_count": 73,
   "metadata": {
    "collapsed": true
   },
   "outputs": [],
   "source": [
    "## uses the BP for each snp as its uniq identifier"
   ]
  },
  {
   "cell_type": "code",
   "execution_count": 26,
   "metadata": {
    "collapsed": false
   },
   "outputs": [],
   "source": [
    "import vcf\n",
    "import numpy as np\n",
    "from __future__ import division\n",
    "\n",
    "def HetvsCov(parent_dir):\n",
    "    \n",
    "    ufvcf = open(parent_dir+\"/batch_1.vcf\", 'r')\n",
    "    Ho_filtered_vcf = open(parent_dir+\"/batch_1_pure_cru_blacklisted.vcf\", 'r')\n",
    "    ufout_file = open(parent_dir+\"/Unfiltered_cov_vs_het_ammended.txt\", 'w')\n",
    "    Ho_filtered_out =  open(parent_dir+\"/Pure_cru_Ho_filtered_cov_vs_het_ammended.txt\", 'w')\n",
    "    \n",
    "    \n",
    "    def het_cov_finder(_vcf, out_file):\n",
    "        vcf_reader = vcf.Reader(_vcf)\n",
    "        out_file.write(\"SNP\\tAv_cov\\thet\\n\")\n",
    "\n",
    "        \n",
    "        ## for hybrids only get cov data and het from vcf\n",
    "        \n",
    "        hybrids = [\"VIKKHY1\", \"VIKKHY2\", \"VIKKHY3\", \"VIKKHY4\", \"VIKKHY5\", \"HOLT\", \"FM01\", \"EP01\"]\n",
    "        \n",
    "        snp_data = {}\n",
    "        for record in vcf_reader:\n",
    "            snp_data[record.POS] = []\n",
    "            snp_coverage = []\n",
    "            snp_het = 0\n",
    "            snp_hom = 0\n",
    "            sample_counter = 0\n",
    "            for sample in record.samples:\n",
    "                for hybrid in hybrids:\n",
    "                    if hybrid in sample.sample:\n",
    "        \n",
    "                        if sample['GT'] == \"0/1\" or sample['GT'] == \"1/0\":\n",
    "                            snp_het += 1\n",
    "                            sample_counter += 1 ## only count sample if it is present at that locus\n",
    "                            snp_coverage.append(int(sample['DP']))\n",
    "                        elif sample['GT'] == \"1/1\" or sample['GT'] == \"0/0\":\n",
    "                            snp_hom += 1\n",
    "                            sample_counter += 1\n",
    "                            snp_coverage.append(int(sample['DP']))\n",
    "                        else:\n",
    "                            pass\n",
    "        \n",
    "            if not sample_counter == 0:\n",
    "            \n",
    "                snp_average_coverage = np.mean(snp_coverage)\n",
    "                snp_heterozygosity = snp_het/sample_counter\n",
    "                out_file.write(\"%s\\t%s\\t%s\\n\" %(record.POS, snp_average_coverage, snp_heterozygosity))\n",
    "            \n",
    "            else:\n",
    "                pass \n",
    "            \n",
    "            \n",
    "        out_file.close()\n",
    "\n",
    "    het_cov_finder(ufvcf, ufout_file)\n",
    "    het_cov_finder(Ho_filtered_vcf, Ho_filtered_out)\n"
   ]
  },
  {
   "cell_type": "code",
   "execution_count": 27,
   "metadata": {
    "collapsed": false
   },
   "outputs": [],
   "source": [
    "HetvsCov(\"/media/dan/34D5D1CE642D7E36/2013076_Hanfling_Bernd/Stacks/Stacks_analyses_TRIMMED/All_samples_M4_m4_N4/populations_tests/populations__p25_r07/\")"
   ]
  },
  {
   "cell_type": "code",
   "execution_count": 28,
   "metadata": {
    "collapsed": false
   },
   "outputs": [
    {
     "name": "stdout",
     "output_type": "stream",
     "text": [
      "/media/dan/34D5D1CE642D7E36/2013076_Hanfling_Bernd/Stacks/Stacks_analyses_TRIMMED/With_reference/Data_links/pstacks_m_4/populations_tests/populations_p27_r07_m5/\n",
      "None\n",
      "/media/dan/34D5D1CE642D7E36/2013076_Hanfling_Bernd/Stacks/Stacks_analyses_TRIMMED/With_reference/Data_links/pstacks_m_4/populations_tests/populations_p27_r00.5/\n",
      "None\n",
      "/media/dan/34D5D1CE642D7E36/2013076_Hanfling_Bernd/Stacks/Stacks_analyses_TRIMMED/With_reference/Data_links/pstacks_m_4/populations_tests/populations_p27_r00.6/\n",
      "None\n",
      "/media/dan/34D5D1CE642D7E36/2013076_Hanfling_Bernd/Stacks/Stacks_analyses_TRIMMED/With_reference/Data_links/pstacks_m_4/populations_tests/populations_p27_r00.7/\n",
      "None\n",
      "/media/dan/34D5D1CE642D7E36/2013076_Hanfling_Bernd/Stacks/Stacks_analyses_TRIMMED/With_reference/Data_links/pstacks_m_4/populations_tests/populations_p27_r00.8/\n",
      "None\n",
      "/media/dan/34D5D1CE642D7E36/2013076_Hanfling_Bernd/Stacks/Stacks_analyses_TRIMMED/With_reference/Data_links/pstacks_m_4/populations_tests/populations_p27_r00.9/\n",
      "None\n",
      "/media/dan/34D5D1CE642D7E36/2013076_Hanfling_Bernd/Stacks/Stacks_analyses_TRIMMED/With_reference/Data_links/pstacks_m_4/populations_tests/populations_p27_r01.0/\n",
      "None\n",
      "/media/dan/34D5D1CE642D7E36/2013076_Hanfling_Bernd/Stacks/Stacks_analyses_TRIMMED/With_reference/Data_links/pstacks_m_4/populations_tests/populations_p27_r07_m1/\n",
      "None\n",
      "/media/dan/34D5D1CE642D7E36/2013076_Hanfling_Bernd/Stacks/Stacks_analyses_TRIMMED/With_reference/Data_links/pstacks_m_4/populations_tests/populations_p27_r07_m2/\n",
      "None\n",
      "/media/dan/34D5D1CE642D7E36/2013076_Hanfling_Bernd/Stacks/Stacks_analyses_TRIMMED/With_reference/Data_links/pstacks_m_4/populations_tests/populations_p27_r07_m3/\n",
      "None\n",
      "/media/dan/34D5D1CE642D7E36/2013076_Hanfling_Bernd/Stacks/Stacks_analyses_TRIMMED/With_reference/Data_links/pstacks_m_4/populations_tests/populations_p27_r07_m4/\n",
      "None\n",
      "/media/dan/34D5D1CE642D7E36/2013076_Hanfling_Bernd/Stacks/Stacks_analyses_TRIMMED/With_reference/Data_links/pstacks_m_4/populations_tests/populations_p27_r07_m6/\n",
      "None\n",
      "/media/dan/34D5D1CE642D7E36/2013076_Hanfling_Bernd/Stacks/Stacks_analyses_TRIMMED/With_reference/Data_links/pstacks_m_4/populations_tests/populations_p27_r07_m7/\n",
      "None\n",
      "/media/dan/34D5D1CE642D7E36/2013076_Hanfling_Bernd/Stacks/Stacks_analyses_TRIMMED/With_reference/Data_links/pstacks_m_4/populations_tests/populations_p27_r07_m8/\n",
      "None\n",
      "/media/dan/34D5D1CE642D7E36/2013076_Hanfling_Bernd/Stacks/Stacks_analyses_TRIMMED/With_reference/Data_links/pstacks_m_4/populations_tests/populations__p25_r07/\n",
      "None\n",
      "/media/dan/34D5D1CE642D7E36/2013076_Hanfling_Bernd/Stacks/Stacks_analyses_TRIMMED/With_reference/Data_links/pstacks_m_4/populations_tests/populations__p26_r07/\n",
      "None\n",
      "/media/dan/34D5D1CE642D7E36/2013076_Hanfling_Bernd/Stacks/Stacks_analyses_TRIMMED/With_reference/Data_links/pstacks_m_4/populations_tests/populations__p27_r07/\n",
      "None\n",
      "/media/dan/34D5D1CE642D7E36/2013076_Hanfling_Bernd/Stacks/Stacks_analyses_TRIMMED/With_reference/Data_links/pstacks_m_4/populations_tests/populations__p28_r07/\n",
      "None\n",
      "/media/dan/34D5D1CE642D7E36/2013076_Hanfling_Bernd/Stacks/Stacks_analyses_TRIMMED/With_reference/Data_links/pstacks_m_4/populations_tests/populations__p29_r07/\n",
      "None\n",
      "/media/dan/34D5D1CE642D7E36/2013076_Hanfling_Bernd/Stacks/Stacks_analyses_TRIMMED/With_reference/Data_links/pstacks_m_4/populations_tests/populations__p30_r07/\n",
      "None\n",
      "/media/dan/34D5D1CE642D7E36/2013076_Hanfling_Bernd/Stacks/Stacks_analyses_TRIMMED/With_reference/Data_links/pstacks_m_4/populations_tests/populations__p31_r07/\n",
      "None\n",
      "/media/dan/34D5D1CE642D7E36/2013076_Hanfling_Bernd/Stacks/Stacks_analyses_TRIMMED/With_reference/Data_links/pstacks_m_4/populations_tests/Pure_cru_populations_for_blacklisting_p17_r07/\n",
      "None\n"
     ]
    }
   ],
   "source": [
    "## batch\n",
    "import os\n",
    "\n",
    "for root, dirs, files in os.walk(\"/media/dan/34D5D1CE642D7E36/2013076_Hanfling_Bernd/Stacks/Stacks_analyses_TRIMMED/With_reference/Data_links/pstacks_m_4/populations_tests/\"):\n",
    "    for file in files:\n",
    "        if \"batch_1.vcf\" in file:\n",
    "            par_dir = \"%s/\" %(root)\n",
    "            print par_dir\n",
    "            print HetvsCov(par_dir)\n",
    "            \n"
   ]
  },
  {
   "cell_type": "code",
   "execution_count": 29,
   "metadata": {
    "collapsed": false
   },
   "outputs": [
    {
     "name": "stdout",
     "output_type": "stream",
     "text": [
      "/media/dan/34D5D1CE642D7E36/2013076_Hanfling_Bernd/Stacks/Stacks_analyses_TRIMMED/All_samples_M4_m4_N4/populations_tests/populations_p27_r07_m5/\n",
      "None\n",
      "/media/dan/34D5D1CE642D7E36/2013076_Hanfling_Bernd/Stacks/Stacks_analyses_TRIMMED/All_samples_M4_m4_N4/populations_tests/populations_p27_r00.5/\n",
      "None\n",
      "/media/dan/34D5D1CE642D7E36/2013076_Hanfling_Bernd/Stacks/Stacks_analyses_TRIMMED/All_samples_M4_m4_N4/populations_tests/populations_p27_r00.6/\n",
      "None\n",
      "/media/dan/34D5D1CE642D7E36/2013076_Hanfling_Bernd/Stacks/Stacks_analyses_TRIMMED/All_samples_M4_m4_N4/populations_tests/populations_p27_r00.7/\n",
      "None\n",
      "/media/dan/34D5D1CE642D7E36/2013076_Hanfling_Bernd/Stacks/Stacks_analyses_TRIMMED/All_samples_M4_m4_N4/populations_tests/populations_p27_r00.8/\n",
      "None\n",
      "/media/dan/34D5D1CE642D7E36/2013076_Hanfling_Bernd/Stacks/Stacks_analyses_TRIMMED/All_samples_M4_m4_N4/populations_tests/populations_p27_r00.9/\n",
      "None\n",
      "/media/dan/34D5D1CE642D7E36/2013076_Hanfling_Bernd/Stacks/Stacks_analyses_TRIMMED/All_samples_M4_m4_N4/populations_tests/populations_p27_r01.0/\n",
      "None\n",
      "/media/dan/34D5D1CE642D7E36/2013076_Hanfling_Bernd/Stacks/Stacks_analyses_TRIMMED/All_samples_M4_m4_N4/populations_tests/populations_p27_r07_m1/\n",
      "None\n",
      "/media/dan/34D5D1CE642D7E36/2013076_Hanfling_Bernd/Stacks/Stacks_analyses_TRIMMED/All_samples_M4_m4_N4/populations_tests/populations_p27_r07_m2/\n",
      "None\n",
      "/media/dan/34D5D1CE642D7E36/2013076_Hanfling_Bernd/Stacks/Stacks_analyses_TRIMMED/All_samples_M4_m4_N4/populations_tests/populations_p27_r07_m3/\n",
      "None\n",
      "/media/dan/34D5D1CE642D7E36/2013076_Hanfling_Bernd/Stacks/Stacks_analyses_TRIMMED/All_samples_M4_m4_N4/populations_tests/populations_p27_r07_m4/\n",
      "None\n",
      "/media/dan/34D5D1CE642D7E36/2013076_Hanfling_Bernd/Stacks/Stacks_analyses_TRIMMED/All_samples_M4_m4_N4/populations_tests/populations_p27_r07_m6/\n",
      "None\n",
      "/media/dan/34D5D1CE642D7E36/2013076_Hanfling_Bernd/Stacks/Stacks_analyses_TRIMMED/All_samples_M4_m4_N4/populations_tests/populations_p27_r07_m7/\n",
      "None\n",
      "/media/dan/34D5D1CE642D7E36/2013076_Hanfling_Bernd/Stacks/Stacks_analyses_TRIMMED/All_samples_M4_m4_N4/populations_tests/populations_p27_r07_m8/\n",
      "None\n",
      "/media/dan/34D5D1CE642D7E36/2013076_Hanfling_Bernd/Stacks/Stacks_analyses_TRIMMED/All_samples_M4_m4_N4/populations_tests/populations_Pure_cru_only_p19_r07_m0/\n",
      "None\n",
      "/media/dan/34D5D1CE642D7E36/2013076_Hanfling_Bernd/Stacks/Stacks_analyses_TRIMMED/All_samples_M4_m4_N4/populations_tests/populations__p25_r07/\n",
      "None\n",
      "/media/dan/34D5D1CE642D7E36/2013076_Hanfling_Bernd/Stacks/Stacks_analyses_TRIMMED/All_samples_M4_m4_N4/populations_tests/populations__p26_r07/\n",
      "None\n",
      "/media/dan/34D5D1CE642D7E36/2013076_Hanfling_Bernd/Stacks/Stacks_analyses_TRIMMED/All_samples_M4_m4_N4/populations_tests/populations__p27_r07/\n",
      "None\n",
      "/media/dan/34D5D1CE642D7E36/2013076_Hanfling_Bernd/Stacks/Stacks_analyses_TRIMMED/All_samples_M4_m4_N4/populations_tests/populations__p28_r07/\n",
      "None\n",
      "/media/dan/34D5D1CE642D7E36/2013076_Hanfling_Bernd/Stacks/Stacks_analyses_TRIMMED/All_samples_M4_m4_N4/populations_tests/populations__p29_r07/\n",
      "None\n",
      "/media/dan/34D5D1CE642D7E36/2013076_Hanfling_Bernd/Stacks/Stacks_analyses_TRIMMED/All_samples_M4_m4_N4/populations_tests/populations__p30_r07/\n",
      "None\n",
      "/media/dan/34D5D1CE642D7E36/2013076_Hanfling_Bernd/Stacks/Stacks_analyses_TRIMMED/All_samples_M4_m4_N4/populations_tests/populations__p31_r07/\n",
      "None\n"
     ]
    }
   ],
   "source": [
    "## batch\n",
    "import os\n",
    "\n",
    "for root, dirs, files in os.walk(\"/media/dan/34D5D1CE642D7E36/2013076_Hanfling_Bernd/Stacks/Stacks_analyses_TRIMMED/All_samples_M4_m4_N4/populations_tests/\"):\n",
    "    for file in files:\n",
    "        if \"batch_1.vcf\" in file:\n",
    "            par_dir = \"%s/\" %(root)\n",
    "            print par_dir\n",
    "            print HetvsCov(par_dir)"
   ]
  }
 ],
 "metadata": {
  "kernelspec": {
   "display_name": "Python 2",
   "language": "python",
   "name": "python2"
  },
  "language_info": {
   "codemirror_mode": {
    "name": "ipython",
    "version": 2
   },
   "file_extension": ".py",
   "mimetype": "text/x-python",
   "name": "python",
   "nbconvert_exporter": "python",
   "pygments_lexer": "ipython2",
   "version": "2.7.6"
  }
 },
 "nbformat": 4,
 "nbformat_minor": 0
}
